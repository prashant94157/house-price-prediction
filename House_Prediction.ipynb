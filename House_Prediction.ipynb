{
 "cells": [
  {
   "cell_type": "code",
   "execution_count": 34,
   "metadata": {},
   "outputs": [],
   "source": [
    "import pandas as pd\n",
    "import numpy as np\n",
    "from sklearn.impute import SimpleImputer\n",
    "from sklearn.compose import ColumnTransformer\n",
    "from sklearn.preprocessing import OrdinalEncoder,OneHotEncoder"
   ]
  },
  {
   "cell_type": "code",
   "execution_count": 35,
   "metadata": {},
   "outputs": [],
   "source": [
    "train_data=pd.read_csv('train.csv')\n",
    "train_data.sample(8)\n",
    "target = train_data.iloc[:,-1]\n",
    "train_data= train_data.iloc[:,:-1]"
   ]
  },
  {
   "cell_type": "code",
   "execution_count": 36,
   "metadata": {},
   "outputs": [
    {
     "data": {
      "text/plain": [
       "(1460, 80)"
      ]
     },
     "execution_count": 36,
     "metadata": {},
     "output_type": "execute_result"
    }
   ],
   "source": [
    "train_data.shape"
   ]
  },
  {
   "cell_type": "code",
   "execution_count": 37,
   "metadata": {},
   "outputs": [
    {
     "name": "stdout",
     "output_type": "stream",
     "text": [
      "['Gd' 'TA' 'Ex' nan 'Fa']\n",
      "['TA' 'Gd' nan 'Fa' 'Po']\n",
      "['No' 'Gd' 'Mn' 'Av' nan]\n",
      "['GLQ' 'ALQ' 'Unf' 'Rec' 'BLQ' nan 'LwQ']\n",
      "['Unf' 'BLQ' nan 'ALQ' 'Rec' 'LwQ' 'GLQ']\n",
      "['SBrkr' 'FuseF' 'FuseA' 'FuseP' 'Mix' nan]\n",
      "['Attchd' 'Detchd' 'BuiltIn' 'CarPort' nan 'Basment' '2Types']\n",
      "['RFn' 'Unf' 'Fin' nan]\n",
      "['TA' 'Fa' 'Gd' nan 'Ex' 'Po']\n",
      "['TA' 'Fa' nan 'Gd' 'Po' 'Ex']\n"
     ]
    }
   ],
   "source": [
    "train_data = train_data.drop(\"Alley\",axis=1)\n",
    "for i in ['BsmtQual', 'BsmtCond', 'BsmtExposure', 'BsmtFinType1', 'BsmtFinType2', 'Electrical', 'GarageType', 'GarageFinish', 'GarageQual', 'GarageCond']:\n",
    "    print(train_data[i].unique())"
   ]
  },
  {
   "cell_type": "code",
   "execution_count": 38,
   "metadata": {},
   "outputs": [
    {
     "data": {
      "text/plain": [
       "Index(['LotFrontage', 'MasVnrType', 'FireplaceQu', 'PoolQC', 'Fence',\n",
       "       'MiscFeature'],\n",
       "      dtype='object')"
      ]
     },
     "execution_count": 38,
     "metadata": {},
     "output_type": "execute_result"
    }
   ],
   "source": [
    "removed_cols = train_data.loc[:,train_data.isna().sum(axis=0)/len(train_data)*100 >= 10].columns\n",
    "train_data = train_data.drop(columns=removed_cols, axis='columns')\n",
    "removed_cols"
   ]
  },
  {
   "cell_type": "code",
   "execution_count": 39,
   "metadata": {},
   "outputs": [
    {
     "name": "stdout",
     "output_type": "stream",
     "text": [
      "<class 'pandas.core.frame.DataFrame'>\n",
      "RangeIndex: 1460 entries, 0 to 1459\n",
      "Data columns (total 73 columns):\n",
      " #   Column         Non-Null Count  Dtype  \n",
      "---  ------         --------------  -----  \n",
      " 0   Id             1460 non-null   int64  \n",
      " 1   MSSubClass     1460 non-null   int64  \n",
      " 2   MSZoning       1460 non-null   object \n",
      " 3   LotArea        1460 non-null   int64  \n",
      " 4   Street         1460 non-null   object \n",
      " 5   LotShape       1460 non-null   object \n",
      " 6   LandContour    1460 non-null   object \n",
      " 7   Utilities      1460 non-null   object \n",
      " 8   LotConfig      1460 non-null   object \n",
      " 9   LandSlope      1460 non-null   object \n",
      " 10  Neighborhood   1460 non-null   object \n",
      " 11  Condition1     1460 non-null   object \n",
      " 12  Condition2     1460 non-null   object \n",
      " 13  BldgType       1460 non-null   object \n",
      " 14  HouseStyle     1460 non-null   object \n",
      " 15  OverallQual    1460 non-null   int64  \n",
      " 16  OverallCond    1460 non-null   int64  \n",
      " 17  YearBuilt      1460 non-null   int64  \n",
      " 18  YearRemodAdd   1460 non-null   int64  \n",
      " 19  RoofStyle      1460 non-null   object \n",
      " 20  RoofMatl       1460 non-null   object \n",
      " 21  Exterior1st    1460 non-null   object \n",
      " 22  Exterior2nd    1460 non-null   object \n",
      " 23  MasVnrArea     1452 non-null   float64\n",
      " 24  ExterQual      1460 non-null   object \n",
      " 25  ExterCond      1460 non-null   object \n",
      " 26  Foundation     1460 non-null   object \n",
      " 27  BsmtQual       1423 non-null   object \n",
      " 28  BsmtCond       1423 non-null   object \n",
      " 29  BsmtExposure   1422 non-null   object \n",
      " 30  BsmtFinType1   1423 non-null   object \n",
      " 31  BsmtFinSF1     1460 non-null   int64  \n",
      " 32  BsmtFinType2   1422 non-null   object \n",
      " 33  BsmtFinSF2     1460 non-null   int64  \n",
      " 34  BsmtUnfSF      1460 non-null   int64  \n",
      " 35  TotalBsmtSF    1460 non-null   int64  \n",
      " 36  Heating        1460 non-null   object \n",
      " 37  HeatingQC      1460 non-null   object \n",
      " 38  CentralAir     1460 non-null   object \n",
      " 39  Electrical     1459 non-null   object \n",
      " 40  1stFlrSF       1460 non-null   int64  \n",
      " 41  2ndFlrSF       1460 non-null   int64  \n",
      " 42  LowQualFinSF   1460 non-null   int64  \n",
      " 43  GrLivArea      1460 non-null   int64  \n",
      " 44  BsmtFullBath   1460 non-null   int64  \n",
      " 45  BsmtHalfBath   1460 non-null   int64  \n",
      " 46  FullBath       1460 non-null   int64  \n",
      " 47  HalfBath       1460 non-null   int64  \n",
      " 48  BedroomAbvGr   1460 non-null   int64  \n",
      " 49  KitchenAbvGr   1460 non-null   int64  \n",
      " 50  KitchenQual    1460 non-null   object \n",
      " 51  TotRmsAbvGrd   1460 non-null   int64  \n",
      " 52  Functional     1460 non-null   object \n",
      " 53  Fireplaces     1460 non-null   int64  \n",
      " 54  GarageType     1379 non-null   object \n",
      " 55  GarageYrBlt    1379 non-null   float64\n",
      " 56  GarageFinish   1379 non-null   object \n",
      " 57  GarageCars     1460 non-null   int64  \n",
      " 58  GarageArea     1460 non-null   int64  \n",
      " 59  GarageQual     1379 non-null   object \n",
      " 60  GarageCond     1379 non-null   object \n",
      " 61  PavedDrive     1460 non-null   object \n",
      " 62  WoodDeckSF     1460 non-null   int64  \n",
      " 63  OpenPorchSF    1460 non-null   int64  \n",
      " 64  EnclosedPorch  1460 non-null   int64  \n",
      " 65  3SsnPorch      1460 non-null   int64  \n",
      " 66  ScreenPorch    1460 non-null   int64  \n",
      " 67  PoolArea       1460 non-null   int64  \n",
      " 68  MiscVal        1460 non-null   int64  \n",
      " 69  MoSold         1460 non-null   int64  \n",
      " 70  YrSold         1460 non-null   int64  \n",
      " 71  SaleType       1460 non-null   object \n",
      " 72  SaleCondition  1460 non-null   object \n",
      "dtypes: float64(2), int64(34), object(37)\n",
      "memory usage: 832.8+ KB\n"
     ]
    }
   ],
   "source": [
    "train_data.info()"
   ]
  },
  {
   "cell_type": "code",
   "execution_count": 40,
   "metadata": {},
   "outputs": [],
   "source": [
    "columns_with_null=train_data.loc[:,(train_data.isna().sum(axis=0)>0)].columns"
   ]
  },
  {
   "cell_type": "code",
   "execution_count": 41,
   "metadata": {},
   "outputs": [
    {
     "data": {
      "text/plain": [
       "Index(['MasVnrArea', 'BsmtQual', 'BsmtCond', 'BsmtExposure', 'BsmtFinType1',\n",
       "       'BsmtFinType2', 'Electrical', 'GarageType', 'GarageYrBlt',\n",
       "       'GarageFinish', 'GarageQual', 'GarageCond'],\n",
       "      dtype='object')"
      ]
     },
     "execution_count": 41,
     "metadata": {},
     "output_type": "execute_result"
    }
   ],
   "source": [
    "columns_with_null"
   ]
  },
  {
   "cell_type": "code",
   "execution_count": 42,
   "metadata": {},
   "outputs": [
    {
     "data": {
      "text/plain": [
       "dtype('O')"
      ]
     },
     "execution_count": 42,
     "metadata": {},
     "output_type": "execute_result"
    }
   ],
   "source": [
    "train_data[\"BsmtCond\"].dtype"
   ]
  },
  {
   "cell_type": "code",
   "execution_count": 43,
   "metadata": {},
   "outputs": [],
   "source": [
    "# l1 list contain columns with Object datatype\n",
    "# l2 list contain columns with numerical datatype\n",
    "l1,l2=[],[]"
   ]
  },
  {
   "cell_type": "code",
   "execution_count": 44,
   "metadata": {},
   "outputs": [],
   "source": [
    "for col in columns_with_null:\n",
    "    if train_data[col].dtype == 'O':\n",
    "        l1.append(col)\n",
    "    else:\n",
    "        l2.append(col)\n"
   ]
  },
  {
   "cell_type": "code",
   "execution_count": 45,
   "metadata": {},
   "outputs": [
    {
     "name": "stdout",
     "output_type": "stream",
     "text": [
      "['BsmtQual', 'BsmtCond', 'BsmtExposure', 'BsmtFinType1', 'BsmtFinType2', 'Electrical', 'GarageType', 'GarageFinish', 'GarageQual', 'GarageCond']\n",
      "['MasVnrArea', 'GarageYrBlt']\n"
     ]
    }
   ],
   "source": [
    "print(l1)\n",
    "print(l2)"
   ]
  },
  {
   "cell_type": "code",
   "execution_count": 46,
   "metadata": {},
   "outputs": [
    {
     "name": "stdout",
     "output_type": "stream",
     "text": [
      "['Gd' 'TA' 'Ex' nan 'Fa']\n",
      "['TA' 'Gd' nan 'Fa' 'Po']\n",
      "['No' 'Gd' 'Mn' 'Av' nan]\n",
      "['GLQ' 'ALQ' 'Unf' 'Rec' 'BLQ' nan 'LwQ']\n",
      "['Unf' 'BLQ' nan 'ALQ' 'Rec' 'LwQ' 'GLQ']\n",
      "['SBrkr' 'FuseF' 'FuseA' 'FuseP' 'Mix' nan]\n",
      "['Attchd' 'Detchd' 'BuiltIn' 'CarPort' nan 'Basment' '2Types']\n",
      "['RFn' 'Unf' 'Fin' nan]\n",
      "['TA' 'Fa' 'Gd' nan 'Ex' 'Po']\n",
      "['TA' 'Fa' nan 'Gd' 'Po' 'Ex']\n"
     ]
    }
   ],
   "source": [
    "for i in l1:\n",
    "    print(train_data[i].unique())"
   ]
  },
  {
   "cell_type": "code",
   "execution_count": 47,
   "metadata": {},
   "outputs": [
    {
     "data": {
      "text/plain": [
       "BsmtQual        object\n",
       "BsmtCond        object\n",
       "BsmtExposure    object\n",
       "BsmtFinType1    object\n",
       "BsmtFinType2    object\n",
       "Electrical      object\n",
       "GarageType      object\n",
       "GarageFinish    object\n",
       "GarageQual      object\n",
       "GarageCond      object\n",
       "dtype: object"
      ]
     },
     "execution_count": 47,
     "metadata": {},
     "output_type": "execute_result"
    }
   ],
   "source": [
    "train_data.loc[:,l1].dtypes"
   ]
  },
  {
   "cell_type": "code",
   "execution_count": 48,
   "metadata": {},
   "outputs": [
    {
     "data": {
      "text/plain": [
       "MasVnrArea     float64\n",
       "GarageYrBlt    float64\n",
       "dtype: object"
      ]
     },
     "execution_count": 48,
     "metadata": {},
     "output_type": "execute_result"
    }
   ],
   "source": [
    "train_data.loc[:,l2].dtypes"
   ]
  },
  {
   "cell_type": "code",
   "execution_count": 49,
   "metadata": {},
   "outputs": [
    {
     "data": {
      "text/plain": [
       "BsmtQual\n",
       "TA    649\n",
       "Gd    618\n",
       "Ex    121\n",
       "Fa     35\n",
       "Name: count, dtype: int64"
      ]
     },
     "execution_count": 49,
     "metadata": {},
     "output_type": "execute_result"
    }
   ],
   "source": [
    "train_data['BsmtQual'].value_counts()"
   ]
  },
  {
   "cell_type": "code",
   "execution_count": 50,
   "metadata": {},
   "outputs": [
    {
     "name": "stdout",
     "output_type": "stream",
     "text": [
      "['MasVnrArea', 'GarageYrBlt'] ['BsmtQual', 'BsmtCond', 'BsmtExposure', 'BsmtFinType1', 'BsmtFinType2', 'Electrical', 'GarageType', 'GarageFinish', 'GarageQual', 'GarageCond']\n"
     ]
    }
   ],
   "source": [
    "np.sort(train_data.columns)\n",
    "print(l2,l1)"
   ]
  },
  {
   "cell_type": "code",
   "execution_count": 51,
   "metadata": {},
   "outputs": [],
   "source": [
    "# l3 list contain ordinal columns\n",
    "# Complete this l3 list and only write map for the columns' name given above, don't touch anything if you don;t know about that and don't directly merge your branch into master\n",
    "l3 = ['MSZoning','Street','LotShape','LandContour','Utilities','LotConfig','LandSlope','BldgType','HouseStyle','RoofStyle', 'RoofMatl', 'Exterior1st', 'Exterior2nd','ExterQual', 'ExterCond', 'Foundation', 'BsmtQual', 'BsmtCond','BsmtExposure', 'BsmtFinType1', 'BsmtFinType2', 'HeatingQC','PavedDrive' ,'GarageCond', 'GarageQual','KitchenQual', 'Functional', 'GarageType','GarageFinish']\n",
    "maps = [\n",
    "        \n",
    "\t    ['A','C (all)','FV','I','RH','RL','RP','RM'],\n",
    "        ['Grvl','Pave'],\n",
    "        ['IR3', 'IR2', 'IR1', 'Reg'],\n",
    "        ['Low', 'HLS', 'Bnk', 'Lvl'],\n",
    "        ['ELO', 'NoSeWa', 'NoSewr', 'AllPub'],\n",
    "        ['FR3', 'FR2', 'CulDSac', 'Corner', 'Inside'],\n",
    "        ['Sev', 'Mod', 'Gtl'],\n",
    "        ['1Fam','2fmCon','Duplex','TwnhsE','Twnhs'],\n",
    "        ['1Story','1.5Fin','1.5Unf','2Story','2.5Fin','2.5Unf','SFoyer','SLvl'],\n",
    "\t    ['Mansard', 'Gambrel', 'Flat', 'Shed', 'Gable', 'Hip'],\n",
    "    \t['Roll', 'Membran', 'Tar&Grv', 'CompShg', 'WdShngl', 'WdShake', 'Metal', 'ClyTile'],\n",
    "    \t['ImStucc', 'CBlock', 'BrkComm', 'AsphShn', 'AsbShng', 'WdShing', 'Wd Sdng', 'MetalSd', 'Plywood', 'HdBoard', 'VinylSd', 'Stucco', 'CemntBd', 'BrkFace', 'Stone'],\n",
    "    \t['Other', 'ImStucc', 'CBlock', 'Brk Cmn', 'AsphShn', 'AsbShng', 'Wd Shng', 'Wd Sdng', 'MetalSd', 'Plywood', 'HdBoard', 'VinylSd', 'Stucco', 'CmentBd', 'BrkFace', 'Stone'],\n",
    "       \t['Po', 'Fa', 'TA', 'Gd', 'Ex'],\n",
    "    \t['Po', 'Fa', 'TA', 'Gd', 'Ex'],\n",
    "    \t['Stone', 'Slab', 'CBlock', 'BrkTil', 'Wood', 'PConc'],\n",
    "    \t['Po', 'Fa', 'TA', 'Gd', 'Ex'],\n",
    "    \t['Po', 'Fa', 'TA', 'Gd', 'Ex'],\n",
    "    \t['No', 'Mn', 'Av', 'Gd'],\n",
    "    \t['Unf', 'LwQ', 'Rec', 'BLQ', 'ALQ', 'GLQ'],\n",
    "    \t['Unf', 'LwQ', 'Rec', 'BLQ', 'ALQ', 'GLQ'],\n",
    "    \t[\"NA\",\"Po\",\"Fa\",\"TA\",\"Gd\",\"Ex\"],\n",
    "\t    ['N', 'P','Y'],\n",
    "        [\"NA\",\"Po\",\"Fa\",\"TA\",\"Gd\",\"Ex\"],\n",
    "        [\"NA\",\"Po\",\"Fa\",\"TA\",\"Gd\",\"Ex\"],\n",
    "     \t ['Po', 'Fa', 'TA', 'Gd', 'Ex'],\n",
    "    ['Sal', 'Sev', 'Maj2', 'Maj1', 'Mod', 'Min2', 'Min1', 'Typ'],\n",
    "    ['NA', 'Detchd', 'CarPort', 'BuiltIn', 'Basment', 'Attchd', '2Types'],\n",
    "    ['NA', 'Unf', 'RFn', 'Fin'] \n",
    "    ]"
   ]
  },
  {
   "cell_type": "code",
   "execution_count": 52,
   "metadata": {},
   "outputs": [
    {
     "data": {
      "text/plain": [
       "(29, 29)"
      ]
     },
     "execution_count": 52,
     "metadata": {},
     "output_type": "execute_result"
    }
   ],
   "source": [
    "len(maps), len(l3)"
   ]
  },
  {
   "cell_type": "code",
   "execution_count": 53,
   "metadata": {},
   "outputs": [
    {
     "name": "stdout",
     "output_type": "stream",
     "text": [
      "MSZoning ['RL' 'RM' 'C (all)' 'FV' 'RH']\n",
      "Street ['Pave' 'Grvl']\n",
      "LotShape ['Reg' 'IR1' 'IR2' 'IR3']\n",
      "LandContour ['Lvl' 'Bnk' 'Low' 'HLS']\n",
      "Utilities ['AllPub' 'NoSeWa']\n",
      "LotConfig ['Inside' 'FR2' 'Corner' 'CulDSac' 'FR3']\n",
      "LandSlope ['Gtl' 'Mod' 'Sev']\n",
      "BldgType ['1Fam' '2fmCon' 'Duplex' 'TwnhsE' 'Twnhs']\n",
      "HouseStyle ['2Story' '1Story' '1.5Fin' '1.5Unf' 'SFoyer' 'SLvl' '2.5Unf' '2.5Fin']\n",
      "RoofStyle ['Gable' 'Hip' 'Gambrel' 'Mansard' 'Flat' 'Shed']\n",
      "RoofMatl ['CompShg' 'WdShngl' 'Metal' 'WdShake' 'Membran' 'Tar&Grv' 'Roll'\n",
      " 'ClyTile']\n",
      "Exterior1st ['VinylSd' 'MetalSd' 'Wd Sdng' 'HdBoard' 'BrkFace' 'WdShing' 'CemntBd'\n",
      " 'Plywood' 'AsbShng' 'Stucco' 'BrkComm' 'AsphShn' 'Stone' 'ImStucc'\n",
      " 'CBlock']\n",
      "Exterior2nd ['VinylSd' 'MetalSd' 'Wd Shng' 'HdBoard' 'Plywood' 'Wd Sdng' 'CmentBd'\n",
      " 'BrkFace' 'Stucco' 'AsbShng' 'Brk Cmn' 'ImStucc' 'AsphShn' 'Stone'\n",
      " 'Other' 'CBlock']\n",
      "ExterQual ['Gd' 'TA' 'Ex' 'Fa']\n",
      "ExterCond ['TA' 'Gd' 'Fa' 'Po' 'Ex']\n",
      "Foundation ['PConc' 'CBlock' 'BrkTil' 'Wood' 'Slab' 'Stone']\n",
      "BsmtQual ['Gd' 'TA' 'Ex' nan 'Fa']\n",
      "BsmtCond ['TA' 'Gd' nan 'Fa' 'Po']\n",
      "BsmtExposure ['No' 'Gd' 'Mn' 'Av' nan]\n",
      "BsmtFinType1 ['GLQ' 'ALQ' 'Unf' 'Rec' 'BLQ' nan 'LwQ']\n",
      "BsmtFinType2 ['Unf' 'BLQ' nan 'ALQ' 'Rec' 'LwQ' 'GLQ']\n",
      "HeatingQC ['Ex' 'Gd' 'TA' 'Fa' 'Po']\n",
      "PavedDrive ['Y' 'N' 'P']\n",
      "GarageCond ['TA' 'Fa' nan 'Gd' 'Po' 'Ex']\n",
      "GarageQual ['TA' 'Fa' 'Gd' nan 'Ex' 'Po']\n",
      "KitchenQual ['Gd' 'TA' 'Ex' 'Fa']\n",
      "Functional ['Typ' 'Min1' 'Maj1' 'Min2' 'Mod' 'Maj2' 'Sev']\n",
      "GarageType ['Attchd' 'Detchd' 'BuiltIn' 'CarPort' nan 'Basment' '2Types']\n",
      "GarageFinish ['RFn' 'Unf' 'Fin' nan]\n"
     ]
    },
    {
     "data": {
      "text/plain": [
       "MSZoning\n",
       "RL         1151\n",
       "RM          218\n",
       "FV           65\n",
       "RH           16\n",
       "C (all)      10\n",
       "Name: count, dtype: int64"
      ]
     },
     "execution_count": 53,
     "metadata": {},
     "output_type": "execute_result"
    }
   ],
   "source": [
    "for i in l3:\n",
    "    print(i, train_data[i].unique())\n",
    "train_data['MSZoning'].value_counts()"
   ]
  },
  {
   "cell_type": "code",
   "execution_count": 54,
   "metadata": {},
   "outputs": [],
   "source": [
    "# l4 list contain nominal columns\n",
    "# l5 list contains numerical columns\n",
    "l4 = []\n",
    "l5 = []\n",
    "for col in train_data.columns:\n",
    "    if train_data[col].dtype == 'O':\n",
    "        if col not in l3:\n",
    "            l4.append(col)\n",
    "    else:\n",
    "        l5.append(col)"
   ]
  },
  {
   "cell_type": "code",
   "execution_count": 55,
   "metadata": {},
   "outputs": [],
   "source": [
    "# impute then encode\n",
    "# transformer = ColumnTransformer(transformers=[\n",
    "#     ('tnf1',SimpleImputer(strategy=\"mean\"),l2),\n",
    "#     ('tnf2',SimpleImputer(strategy=\"most_frequent\"),l1),\n",
    "# ],remainder='passthrough')\n",
    "# train_data"
   ]
  },
  {
   "cell_type": "code",
   "execution_count": 56,
   "metadata": {},
   "outputs": [],
   "source": [
    "# transformed_train_data = pd.DataFrame(transformer.fit_transform(train_data),columns=train_data.columns)\n"
   ]
  },
  {
   "cell_type": "code",
   "execution_count": 57,
   "metadata": {},
   "outputs": [],
   "source": [
    "# transformed_train_data"
   ]
  },
  {
   "cell_type": "code",
   "execution_count": 58,
   "metadata": {},
   "outputs": [
    {
     "data": {
      "text/plain": [
       "array(['RL', 'RM', 'C (all)', 'FV', 'RH'], dtype=object)"
      ]
     },
     "execution_count": 58,
     "metadata": {},
     "output_type": "execute_result"
    }
   ],
   "source": [
    "train_data.isna().sum().sum()\n",
    "l3\n",
    "train_data['MSZoning'].unique()"
   ]
  },
  {
   "cell_type": "code",
   "execution_count": 59,
   "metadata": {},
   "outputs": [
    {
     "name": "stdout",
     "output_type": "stream",
     "text": [
      "['Gd' 'TA' 'Ex' nan 'Fa']\n",
      "['TA' 'Gd' nan 'Fa' 'Po']\n",
      "['No' 'Gd' 'Mn' 'Av' nan]\n",
      "['GLQ' 'ALQ' 'Unf' 'Rec' 'BLQ' nan 'LwQ']\n",
      "['Unf' 'BLQ' nan 'ALQ' 'Rec' 'LwQ' 'GLQ']\n",
      "['SBrkr' 'FuseF' 'FuseA' 'FuseP' 'Mix' nan]\n",
      "['Attchd' 'Detchd' 'BuiltIn' 'CarPort' nan 'Basment' '2Types']\n",
      "['RFn' 'Unf' 'Fin' nan]\n",
      "['TA' 'Fa' 'Gd' nan 'Ex' 'Po']\n",
      "['TA' 'Fa' nan 'Gd' 'Po' 'Ex']\n"
     ]
    }
   ],
   "source": [
    "for i in ['BsmtQual', 'BsmtCond', 'BsmtExposure', 'BsmtFinType1', 'BsmtFinType2', 'Electrical', 'GarageType', 'GarageFinish', 'GarageQual', 'GarageCond']:\n",
    "    print(train_data[i].unique())"
   ]
  },
  {
   "cell_type": "code",
   "execution_count": 60,
   "metadata": {},
   "outputs": [
    {
     "name": "stderr",
     "output_type": "stream",
     "text": [
      "/tmp/ipykernel_5760/107827536.py:2: FutureWarning: A value is trying to be set on a copy of a DataFrame or Series through chained assignment using an inplace method.\n",
      "The behavior will change in pandas 3.0. This inplace method will never work because the intermediate object on which we are setting values always behaves as a copy.\n",
      "\n",
      "For example, when doing 'df[col].method(value, inplace=True)', try using 'df.method({col: value}, inplace=True)' or df[col] = df[col].method(value) instead, to perform the operation inplace on the original object.\n",
      "\n",
      "\n",
      "  train_data[i].fillna(train_data[i].mean(),inplace=True)\n",
      "/tmp/ipykernel_5760/107827536.py:4: FutureWarning: A value is trying to be set on a copy of a DataFrame or Series through chained assignment using an inplace method.\n",
      "The behavior will change in pandas 3.0. This inplace method will never work because the intermediate object on which we are setting values always behaves as a copy.\n",
      "\n",
      "For example, when doing 'df[col].method(value, inplace=True)', try using 'df.method({col: value}, inplace=True)' or df[col] = df[col].method(value) instead, to perform the operation inplace on the original object.\n",
      "\n",
      "\n",
      "  train_data[i].fillna(train_data[i].mode().values[0],inplace=True)\n"
     ]
    }
   ],
   "source": [
    "for i in l2:\n",
    "    train_data[i].fillna(train_data[i].mean(),inplace=True)\n",
    "for i in l1:\n",
    "    train_data[i].fillna(train_data[i].mode().values[0],inplace=True)\n",
    "    # print(train_data[i].unique())\n",
    "    # print(type(train_data.loc[0:i]))"
   ]
  },
  {
   "cell_type": "code",
   "execution_count": 61,
   "metadata": {},
   "outputs": [
    {
     "name": "stdout",
     "output_type": "stream",
     "text": [
      "TA\n"
     ]
    }
   ],
   "source": [
    "print(train_data['BsmtQual'].mode().values[0])"
   ]
  },
  {
   "cell_type": "code",
   "execution_count": 62,
   "metadata": {},
   "outputs": [],
   "source": [
    "transformer2 = ColumnTransformer([\n",
    "    ('tnf1',OrdinalEncoder(categories=maps),l3),\n",
    "    ('tnf2',OneHotEncoder(sparse_output=False,drop='first'),l4),\n",
    "],remainder='passthrough')"
   ]
  },
  {
   "cell_type": "code",
   "execution_count": 63,
   "metadata": {},
   "outputs": [
    {
     "name": "stdout",
     "output_type": "stream",
     "text": [
      "MSZoning\n",
      "RL         1151\n",
      "RM          218\n",
      "FV           65\n",
      "RH           16\n",
      "C (all)      10\n",
      "Name: count, dtype: int64      ['A', 'C (all)', 'FV', 'I', 'RH', 'RL', 'RP', 'RM']\n",
      "Street\n",
      "Pave    1454\n",
      "Grvl       6\n",
      "Name: count, dtype: int64      ['Grvl', 'Pave']\n",
      "LotShape\n",
      "Reg    925\n",
      "IR1    484\n",
      "IR2     41\n",
      "IR3     10\n",
      "Name: count, dtype: int64      ['IR3', 'IR2', 'IR1', 'Reg']\n",
      "LandContour\n",
      "Lvl    1311\n",
      "Bnk      63\n",
      "HLS      50\n",
      "Low      36\n",
      "Name: count, dtype: int64      ['Low', 'HLS', 'Bnk', 'Lvl']\n",
      "Utilities\n",
      "AllPub    1459\n",
      "NoSeWa       1\n",
      "Name: count, dtype: int64      ['ELO', 'NoSeWa', 'NoSewr', 'AllPub']\n",
      "LotConfig\n",
      "Inside     1052\n",
      "Corner      263\n",
      "CulDSac      94\n",
      "FR2          47\n",
      "FR3           4\n",
      "Name: count, dtype: int64      ['FR3', 'FR2', 'CulDSac', 'Corner', 'Inside']\n",
      "LandSlope\n",
      "Gtl    1382\n",
      "Mod      65\n",
      "Sev      13\n",
      "Name: count, dtype: int64      ['Sev', 'Mod', 'Gtl']\n",
      "BldgType\n",
      "1Fam      1220\n",
      "TwnhsE     114\n",
      "Duplex      52\n",
      "Twnhs       43\n",
      "2fmCon      31\n",
      "Name: count, dtype: int64      ['1Fam', '2fmCon', 'Duplex', 'TwnhsE', 'Twnhs']\n",
      "HouseStyle\n",
      "1Story    726\n",
      "2Story    445\n",
      "1.5Fin    154\n",
      "SLvl       65\n",
      "SFoyer     37\n",
      "1.5Unf     14\n",
      "2.5Unf     11\n",
      "2.5Fin      8\n",
      "Name: count, dtype: int64      ['1Story', '1.5Fin', '1.5Unf', '2Story', '2.5Fin', '2.5Unf', 'SFoyer', 'SLvl']\n",
      "RoofStyle\n",
      "Gable      1141\n",
      "Hip         286\n",
      "Flat         13\n",
      "Gambrel      11\n",
      "Mansard       7\n",
      "Shed          2\n",
      "Name: count, dtype: int64      ['Mansard', 'Gambrel', 'Flat', 'Shed', 'Gable', 'Hip']\n",
      "RoofMatl\n",
      "CompShg    1434\n",
      "Tar&Grv      11\n",
      "WdShngl       6\n",
      "WdShake       5\n",
      "Metal         1\n",
      "Membran       1\n",
      "Roll          1\n",
      "ClyTile       1\n",
      "Name: count, dtype: int64      ['Roll', 'Membran', 'Tar&Grv', 'CompShg', 'WdShngl', 'WdShake', 'Metal', 'ClyTile']\n",
      "Exterior1st\n",
      "VinylSd    515\n",
      "HdBoard    222\n",
      "MetalSd    220\n",
      "Wd Sdng    206\n",
      "Plywood    108\n",
      "CemntBd     61\n",
      "BrkFace     50\n",
      "WdShing     26\n",
      "Stucco      25\n",
      "AsbShng     20\n",
      "BrkComm      2\n",
      "Stone        2\n",
      "AsphShn      1\n",
      "ImStucc      1\n",
      "CBlock       1\n",
      "Name: count, dtype: int64      ['ImStucc', 'CBlock', 'BrkComm', 'AsphShn', 'AsbShng', 'WdShing', 'Wd Sdng', 'MetalSd', 'Plywood', 'HdBoard', 'VinylSd', 'Stucco', 'CemntBd', 'BrkFace', 'Stone']\n",
      "Exterior2nd\n",
      "VinylSd    504\n",
      "MetalSd    214\n",
      "HdBoard    207\n",
      "Wd Sdng    197\n",
      "Plywood    142\n",
      "CmentBd     60\n",
      "Wd Shng     38\n",
      "Stucco      26\n",
      "BrkFace     25\n",
      "AsbShng     20\n",
      "ImStucc     10\n",
      "Brk Cmn      7\n",
      "Stone        5\n",
      "AsphShn      3\n",
      "Other        1\n",
      "CBlock       1\n",
      "Name: count, dtype: int64      ['Other', 'ImStucc', 'CBlock', 'Brk Cmn', 'AsphShn', 'AsbShng', 'Wd Shng', 'Wd Sdng', 'MetalSd', 'Plywood', 'HdBoard', 'VinylSd', 'Stucco', 'CmentBd', 'BrkFace', 'Stone']\n",
      "ExterQual\n",
      "TA    906\n",
      "Gd    488\n",
      "Ex     52\n",
      "Fa     14\n",
      "Name: count, dtype: int64      ['Po', 'Fa', 'TA', 'Gd', 'Ex']\n",
      "ExterCond\n",
      "TA    1282\n",
      "Gd     146\n",
      "Fa      28\n",
      "Ex       3\n",
      "Po       1\n",
      "Name: count, dtype: int64      ['Po', 'Fa', 'TA', 'Gd', 'Ex']\n",
      "Foundation\n",
      "PConc     647\n",
      "CBlock    634\n",
      "BrkTil    146\n",
      "Slab       24\n",
      "Stone       6\n",
      "Wood        3\n",
      "Name: count, dtype: int64      ['Stone', 'Slab', 'CBlock', 'BrkTil', 'Wood', 'PConc']\n",
      "BsmtQual\n",
      "TA    686\n",
      "Gd    618\n",
      "Ex    121\n",
      "Fa     35\n",
      "Name: count, dtype: int64      ['Po', 'Fa', 'TA', 'Gd', 'Ex']\n",
      "BsmtCond\n",
      "TA    1348\n",
      "Gd      65\n",
      "Fa      45\n",
      "Po       2\n",
      "Name: count, dtype: int64      ['Po', 'Fa', 'TA', 'Gd', 'Ex']\n",
      "BsmtExposure\n",
      "No    991\n",
      "Av    221\n",
      "Gd    134\n",
      "Mn    114\n",
      "Name: count, dtype: int64      ['No', 'Mn', 'Av', 'Gd']\n",
      "BsmtFinType1\n",
      "Unf    467\n",
      "GLQ    418\n",
      "ALQ    220\n",
      "BLQ    148\n",
      "Rec    133\n",
      "LwQ     74\n",
      "Name: count, dtype: int64      ['Unf', 'LwQ', 'Rec', 'BLQ', 'ALQ', 'GLQ']\n",
      "BsmtFinType2\n",
      "Unf    1294\n",
      "Rec      54\n",
      "LwQ      46\n",
      "BLQ      33\n",
      "ALQ      19\n",
      "GLQ      14\n",
      "Name: count, dtype: int64      ['Unf', 'LwQ', 'Rec', 'BLQ', 'ALQ', 'GLQ']\n",
      "HeatingQC\n",
      "Ex    741\n",
      "TA    428\n",
      "Gd    241\n",
      "Fa     49\n",
      "Po      1\n",
      "Name: count, dtype: int64      ['NA', 'Po', 'Fa', 'TA', 'Gd', 'Ex']\n",
      "PavedDrive\n",
      "Y    1340\n",
      "N      90\n",
      "P      30\n",
      "Name: count, dtype: int64      ['N', 'P', 'Y']\n",
      "GarageCond\n",
      "TA    1407\n",
      "Fa      35\n",
      "Gd       9\n",
      "Po       7\n",
      "Ex       2\n",
      "Name: count, dtype: int64      ['NA', 'Po', 'Fa', 'TA', 'Gd', 'Ex']\n",
      "GarageQual\n",
      "TA    1392\n",
      "Fa      48\n",
      "Gd      14\n",
      "Ex       3\n",
      "Po       3\n",
      "Name: count, dtype: int64      ['NA', 'Po', 'Fa', 'TA', 'Gd', 'Ex']\n",
      "KitchenQual\n",
      "TA    735\n",
      "Gd    586\n",
      "Ex    100\n",
      "Fa     39\n",
      "Name: count, dtype: int64      ['Po', 'Fa', 'TA', 'Gd', 'Ex']\n",
      "Functional\n",
      "Typ     1360\n",
      "Min2      34\n",
      "Min1      31\n",
      "Mod       15\n",
      "Maj1      14\n",
      "Maj2       5\n",
      "Sev        1\n",
      "Name: count, dtype: int64      ['Sal', 'Sev', 'Maj2', 'Maj1', 'Mod', 'Min2', 'Min1', 'Typ']\n",
      "GarageType\n",
      "Attchd     951\n",
      "Detchd     387\n",
      "BuiltIn     88\n",
      "Basment     19\n",
      "CarPort      9\n",
      "2Types       6\n",
      "Name: count, dtype: int64      ['NA', 'Detchd', 'CarPort', 'BuiltIn', 'Basment', 'Attchd', '2Types']\n",
      "GarageFinish\n",
      "Unf    686\n",
      "RFn    422\n",
      "Fin    352\n",
      "Name: count, dtype: int64      ['NA', 'Unf', 'RFn', 'Fin']\n"
     ]
    }
   ],
   "source": [
    "m = 0\n",
    "for i in l3:\n",
    "    print(train_data[i].value_counts(),\"    \", maps[m])\n",
    "    m+=1"
   ]
  },
  {
   "cell_type": "code",
   "execution_count": 64,
   "metadata": {},
   "outputs": [],
   "source": [
    "new_data = transformer2.fit_transform(train_data) \n"
   ]
  },
  {
   "cell_type": "code",
   "execution_count": 65,
   "metadata": {},
   "outputs": [
    {
     "data": {
      "text/plain": [
       "array([[5.000e+00, 1.000e+00, 3.000e+00, ..., 0.000e+00, 2.000e+00,\n",
       "        2.008e+03],\n",
       "       [5.000e+00, 1.000e+00, 3.000e+00, ..., 0.000e+00, 5.000e+00,\n",
       "        2.007e+03],\n",
       "       [5.000e+00, 1.000e+00, 2.000e+00, ..., 0.000e+00, 9.000e+00,\n",
       "        2.008e+03],\n",
       "       ...,\n",
       "       [5.000e+00, 1.000e+00, 3.000e+00, ..., 2.500e+03, 5.000e+00,\n",
       "        2.010e+03],\n",
       "       [5.000e+00, 1.000e+00, 3.000e+00, ..., 0.000e+00, 4.000e+00,\n",
       "        2.010e+03],\n",
       "       [5.000e+00, 1.000e+00, 3.000e+00, ..., 0.000e+00, 6.000e+00,\n",
       "        2.008e+03]])"
      ]
     },
     "execution_count": 65,
     "metadata": {},
     "output_type": "execute_result"
    }
   ],
   "source": [
    "new_data"
   ]
  },
  {
   "cell_type": "code",
   "execution_count": 66,
   "metadata": {},
   "outputs": [
    {
     "data": {
      "text/plain": [
       "127"
      ]
     },
     "execution_count": 66,
     "metadata": {},
     "output_type": "execute_result"
    }
   ],
   "source": [
    "len(new_data[0])"
   ]
  },
  {
   "cell_type": "code",
   "execution_count": 67,
   "metadata": {},
   "outputs": [],
   "source": [
    "from sklearn.linear_model import LinearRegression"
   ]
  },
  {
   "cell_type": "code",
   "execution_count": 68,
   "metadata": {},
   "outputs": [],
   "source": [
    "lr = LinearRegression()\n",
    "model = lr.fit(new_data,target)"
   ]
  },
  {
   "cell_type": "code",
   "execution_count": 69,
   "metadata": {},
   "outputs": [],
   "source": [
    "test = pd.read_csv('test.csv')"
   ]
  },
  {
   "cell_type": "code",
   "execution_count": 70,
   "metadata": {},
   "outputs": [],
   "source": [
    "test = test.drop(\"Alley\",axis=1)"
   ]
  },
  {
   "cell_type": "code",
   "execution_count": 71,
   "metadata": {},
   "outputs": [],
   "source": [
    "test = test.drop(columns=removed_cols, axis='columns')"
   ]
  },
  {
   "cell_type": "code",
   "execution_count": 72,
   "metadata": {},
   "outputs": [
    {
     "name": "stderr",
     "output_type": "stream",
     "text": [
      "/tmp/ipykernel_5760/1724824472.py:9: FutureWarning: A value is trying to be set on a copy of a DataFrame or Series through chained assignment using an inplace method.\n",
      "The behavior will change in pandas 3.0. This inplace method will never work because the intermediate object on which we are setting values always behaves as a copy.\n",
      "\n",
      "For example, when doing 'df[col].method(value, inplace=True)', try using 'df.method({col: value}, inplace=True)' or df[col] = df[col].method(value) instead, to perform the operation inplace on the original object.\n",
      "\n",
      "\n",
      "  test[i].fillna(test[i].mean(),inplace=True)\n",
      "/tmp/ipykernel_5760/1724824472.py:11: FutureWarning: A value is trying to be set on a copy of a DataFrame or Series through chained assignment using an inplace method.\n",
      "The behavior will change in pandas 3.0. This inplace method will never work because the intermediate object on which we are setting values always behaves as a copy.\n",
      "\n",
      "For example, when doing 'df[col].method(value, inplace=True)', try using 'df.method({col: value}, inplace=True)' or df[col] = df[col].method(value) instead, to perform the operation inplace on the original object.\n",
      "\n",
      "\n",
      "  test[i].fillna(test[i].mode().values[0],inplace=True)\n"
     ]
    },
    {
     "data": {
      "text/plain": [
       "0"
      ]
     },
     "execution_count": 72,
     "metadata": {},
     "output_type": "execute_result"
    }
   ],
   "source": [
    "columns_with_null=test.loc[:,(test.isna().sum(axis=0)>0)].columns\n",
    "for col in columns_with_null:\n",
    "    if train_data[col].dtype == 'O':\n",
    "        l1.append(col)\n",
    "    else:\n",
    "        l2.append(col)\n",
    "        \n",
    "for i in l2:\n",
    "    test[i].fillna(test[i].mean(),inplace=True)\n",
    "for i in l1:\n",
    "    test[i].fillna(test[i].mode().values[0],inplace=True)\n",
    "test.isna().sum().sum()"
   ]
  },
  {
   "cell_type": "code",
   "execution_count": 73,
   "metadata": {},
   "outputs": [],
   "source": [
    "test_transformed = transformer2.transform(test)"
   ]
  },
  {
   "cell_type": "code",
   "execution_count": 74,
   "metadata": {},
   "outputs": [
    {
     "data": {
      "text/plain": [
       "127"
      ]
     },
     "execution_count": 74,
     "metadata": {},
     "output_type": "execute_result"
    }
   ],
   "source": [
    "len(test_transformed[0])"
   ]
  },
  {
   "cell_type": "code",
   "execution_count": 75,
   "metadata": {},
   "outputs": [],
   "source": [
    "pred = model.predict(test_transformed)"
   ]
  },
  {
   "cell_type": "code",
   "execution_count": 81,
   "metadata": {},
   "outputs": [],
   "source": [
    "submission = pd.DataFrame({'Id':test['Id'], 'SalePrice': pred}).reset_index().iloc[:,1:].set_index('Id')"
   ]
  },
  {
   "cell_type": "code",
   "execution_count": 82,
   "metadata": {},
   "outputs": [],
   "source": [
    "submission.to_csv('submission.csv')"
   ]
  },
  {
   "cell_type": "code",
   "execution_count": null,
   "metadata": {},
   "outputs": [],
   "source": []
  }
 ],
 "metadata": {
  "kernelspec": {
   "display_name": "Python 3 (ipykernel)",
   "language": "python",
   "name": "python3"
  },
  "language_info": {
   "codemirror_mode": {
    "name": "ipython",
    "version": 3
   },
   "file_extension": ".py",
   "mimetype": "text/x-python",
   "name": "python",
   "nbconvert_exporter": "python",
   "pygments_lexer": "ipython3",
   "version": "3.12.7"
  }
 },
 "nbformat": 4,
 "nbformat_minor": 4
}
